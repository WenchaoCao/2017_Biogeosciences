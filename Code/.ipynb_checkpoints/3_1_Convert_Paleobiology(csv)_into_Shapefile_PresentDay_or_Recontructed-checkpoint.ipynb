{
 "cells": [
  {
   "cell_type": "code",
   "execution_count": 10,
   "metadata": {
    "collapsed": false
   },
   "outputs": [],
   "source": [
    "import pygplates\n",
    "import pandas as pd\n",
    "import numpy as np\n",
    "import matplotlib.pyplot as plt\n",
    "\n",
    "%matplotlib inline\n",
    "\n",
    "pbdb = pd.read_csv('../Data/Fossil_Collections_Genus_PBDB_2500_0Ma/2500Ma-collections.csv')\n",
    "\n",
    "recon_time = 126\n",
    "age_max = 135\n",
    "age_min = 117\n",
    "\n",
    "#extract subsets\n",
    "pbdb_subset = pbdb[(pbdb.ma_max<=age_max) & (pbdb.ma_min>=age_min)] \n",
    "\n",
    "#EB static polygons:'/Users/wenchaocao/Research/6_CookieCutting_Corrections/Orignial_RotaContinCoast_410_0_EarthByte_Model_2015_v1v2/Global_EarthByte_GPlates_PresentDay_StaticPlatePolygons_2015_v1/Global_EarthByte_GPlates_PresentDay_StaticPlatePolygons_2015_v1.shp'\n",
    "static_polygons = '../Data/Matthews++_410-0Ma_latest/StaticPolys/PresentDay_StaticPlatePolygons_Matthews++.shp'\n",
    "\n",
    "# hence, here we can specify a 'fake' rotiation file to avoid reconstructing the fossils\n",
    "#rotation_filename_for_fossils = '/Users/wenchaocao/Desktop/New_Rotation.rot'\n",
    "input_rotation_filename = ['../Data/Matthews++_410-0Ma_latest/Global_EB_250-0Ma_GK07_Matthews++.rot',\n",
    "                           '../Data/6_CookieCutting_Corrections/Matthews++_410-0Ma_latest/Global_EB_410-250Ma_GK07_Matthews++.rot']\n",
    "\n",
    "# Load the rotation file and static polygons for the reconstruction model we want to use\n",
    "# Then, create a gplates feature containing the fossils, and assign-plate ids to them\n",
    "rotation_model = pygplates.RotationModel(input_rotation_filename)\n",
    "\n",
    "point_features = []\n",
    "\n",
    "for index,row in pbdb_subset.iterrows():\n",
    "    point = pygplates.PointOnSphere(float(row.latdec),float(row.lngdec))\n",
    "    #print row.LONG\n",
    "    point_feature = pygplates.Feature()\n",
    "    point_feature.set_geometry(point)\n",
    "    point_feature.set_shapefile_attribute('Environ',str(row.environment))\n",
    "    point_feature.set_shapefile_attribute('lithology1',str(row.lithology1))\n",
    "    point_feature.set_shapefile_attribute('lithology2',str(row.lithology2))\n",
    "    point_feature.set_shapefile_attribute('coll_no',str(row.collection_no))\n",
    "    point_feature.set_shapefile_attribute('coll_auth',str(row['collection.authorizer']))\n",
    "    point_feature.set_shapefile_attribute('coll_refno',str(row['collection.reference_no']))\n",
    "    point_feature.set_shapefile_attribute('ma_max',row.ma_max)\n",
    "    point_feature.set_shapefile_attribute('ma_min',row.ma_min)\n",
    "    point_feature.set_shapefile_attribute('period',str(row.period))\n",
    "    point_feature.set_shapefile_attribute('epoch',str(row.epoch))\n",
    "    point_feature.set_shapefile_attribute('stage',str(row.stage))\n",
    "    point_feature.set_valid_time(age_max,age_min)\n",
    "    point_features.append(point_feature)\n",
    "\n",
    "# The partition points function can then be used as before\n",
    "partitioned_point_features = pygplates.partition_into_plates(static_polygons,\n",
    "                                                       rotation_model,\n",
    "                                                       point_features) \n",
    "\n",
    "# If partitioned feature has plate id = 0, we throw it away \n",
    "partitioned_point_features_not_zero = []\n",
    "for point_feature in partitioned_point_features:\n",
    "    if point_feature.get_reconstruction_plate_id() != 0:\n",
    "        partitioned_point_features_not_zero.append(point_feature)\n",
    "\n",
    "# Create a reconstructed version of the fossil features \n",
    "reconstructed_point_features = []\n",
    "for reconstructed_point in reconstructed_point_features:\n",
    "    pygplates.reconstruct(partitioned_point_features_not_zero,\n",
    "                          rotation_model,\n",
    "                          reconstructed_point_features,\n",
    "                          recon_time)\n",
    "        \n",
    "feature_collection = pygplates.FeatureCollection(reconstructed_point_features)\n",
    "feature_collection.write('Reconstructed_Paleobiology_EBIDs_Matthews2016GPC_'+str(recon_time)+'Ma.shp')\n",
    "\n"
   ]
  },
  {
   "cell_type": "code",
   "execution_count": 8,
   "metadata": {
    "collapsed": false
   },
   "outputs": [
    {
     "name": "stdout",
     "output_type": "stream",
     "text": [
      "[]\n"
     ]
    }
   ],
   "source": [
    "latitudes = []\n",
    "for point in reconstructed_point_features:\n",
    "    latitude, longitude = point.to_lat_lon()\n",
    "    latitudes.append(longitude)\n",
    "print latitudes"
   ]
  },
  {
   "cell_type": "code",
   "execution_count": 11,
   "metadata": {
    "collapsed": false
   },
   "outputs": [
    {
     "name": "stdout",
     "output_type": "stream",
     "text": [
      "[] [] []\n"
     ]
    }
   ],
   "source": [
    "pX = []\n",
    "pY = []\n",
    "pAge = []\n",
    "for point in reconstructed_point_features:\n",
    "    BirthTime = np.mean(point.get_valid_time())\n",
    "    if BirthTime<410:\n",
    "        pAge.append(BirthTime)\n",
    "        point_rotation = rotation_model.get_rotation(BirthTime, point.get_reconstruction_plate_id(), anchor_plate_id=0) #obtain rotating rules\n",
    "        reconstructed_point = point_rotation * point.get_geometry() # carry out reconstruction\n",
    "        pX.append(reconstructed_point.to_lat_lon()[1])\n",
    "        pY.append(reconstructed_point.to_lat_lon()[0])\n",
    "\n",
    "print pX,pY,pAge"
   ]
  },
  {
   "cell_type": "code",
   "execution_count": null,
   "metadata": {
    "collapsed": true
   },
   "outputs": [],
   "source": []
  }
 ],
 "metadata": {
  "kernelspec": {
   "display_name": "Python 2",
   "language": "python",
   "name": "python2"
  },
  "language_info": {
   "codemirror_mode": {
    "name": "ipython",
    "version": 2
   },
   "file_extension": ".py",
   "mimetype": "text/x-python",
   "name": "python",
   "nbconvert_exporter": "python",
   "pygments_lexer": "ipython2",
   "version": "2.7.13"
  }
 },
 "nbformat": 4,
 "nbformat_minor": 0
}
