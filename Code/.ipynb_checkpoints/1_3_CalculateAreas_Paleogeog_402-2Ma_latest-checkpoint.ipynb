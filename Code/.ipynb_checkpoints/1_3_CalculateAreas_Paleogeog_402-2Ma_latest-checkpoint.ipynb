{
 "cells": [
  {
   "cell_type": "code",
   "execution_count": null,
   "metadata": {
    "collapsed": true
   },
   "outputs": [],
   "source": [
    "#asd "
   ]
  },
  {
   "cell_type": "markdown",
   "metadata": {},
   "source": [
    "# Materials associated with the paper: \n",
    "\n",
    "Cao, W., Zahirovic, S., Flament, N., Williams, S., Golonka, J., and Müller, R. D., 2017: Improving global paleogeography since the late Paleozoic using paleobiology, Biogeosciences, 14, 5425-5439. https://doi.org/10.5194/bg-14-5425-2017.\n",
    "\n",
    "### This Jupyter notebook is used to calculate areas of paleogeographic features over the last ~400 Ma\n",
    "\n",
    "The code in this notebook is written in Python 2.7. It utilizes standard scientific Python modules as well as modules from the open source pygplates which provides a Python API to the open source GPlates software (https://www.gplates.org/)."
   ]
  },
  {
   "cell_type": "code",
   "execution_count": 4,
   "metadata": {
    "collapsed": false
   },
   "outputs": [
    {
     "name": "stdout",
     "output_type": "stream",
     "text": [
      "196608\n"
     ]
    },
    {
     "data": {
      "image/png": "[encoded data removed]",
      "text/plain": [
       "<matplotlib.figure.Figure at 0x114a3a1d0>"
      ]
     },
     "metadata": {},
     "output_type": "display_data"
    }
   ],
   "source": [
    "import pygplates\n",
    "#import sphere_interp_kdtree as sphi\n",
    "import healpy as hp\n",
    "import numpy as np\n",
    "import matplotlib.pyplot as plt\n",
    "from mpl_toolkits.basemap import Basemap\n",
    "import os\n",
    "\n",
    "%matplotlib inline\n",
    "\n",
    "#rotation_filename = '/Users/Simon/GIT/pygplates-alpha/tutorials-sv/Data/Seton_etal_ESR2012_2012.1.rot'\n",
    "rotation_filename = '../Data/New_Rotation.rot'\n",
    "rotation_model = pygplates.RotationModel(rotation_filename)\n",
    "\n",
    "### Make a multipoint feature (using healpix)\n",
    "### with evely points distributed points on the sphere\n",
    "# Note the number here controls resolution: \n",
    "# higher number--> higher resolution + slower code execution\n",
    "nSide = 128\n",
    "othetas,ophis = hp.pix2ang(nSide,np.arange(12*nSide**2))\n",
    "othetas = np.pi/2-othetas\n",
    "ophis[ophis>np.pi] -= np.pi*2\n",
    "lats = np.degrees(othetas) \n",
    "lons = np.degrees(ophis)\n",
    "\n",
    "multi_point_features = []\n",
    "multi_point_feature = pygplates.Feature()\n",
    "multi_point = pygplates.MultiPointOnSphere(zip(lats,lons))  \n",
    "multi_point_feature.set_geometry(multi_point)\n",
    "multi_point_feature.set_shapefile_attribute('Layer','do')\n",
    "multi_point_features.append(multi_point)\n",
    "\n",
    "mpf = pygplates.FeatureCollection(multi_point_feature)\n",
    "\n",
    "# save the number of points covering the entire Earth to a variable,\n",
    "# so that we can use it later to determine the ratio of Earth's surface\n",
    "# covered by different paleo-environments\n",
    "num_points_on_globe = lats.shape[0]\n",
    "print num_points_on_globe\n",
    "\n",
    "#plot all points on the sphere\n",
    "m = Basemap(projection='moll', lon_0=0, resolution='c')\n",
    "x,y = m(lons, lats)\n",
    "m.plot(x, y,'green', markersize=2)\n",
    "plt.show()\n",
    "\n",
    "\n"
   ]
  },
  {
   "cell_type": "code",
   "execution_count": 5,
   "metadata": {
    "collapsed": false
   },
   "outputs": [],
   "source": [
    "def PaleogeogAreas(rotation_model,reconstruction_time,icesheet,mountain,landmass,shallow_marine):\n",
    "# This function takes filenames for polygon files defining four different paleo-environment\n",
    "# classes, and a multi-point feature with points covering the Earth's surface (presumably\n",
    "# generated by healpix to ensure equal-area distribution, though they don't have to be)\n",
    "# The function maps the paleo-environment attributes from the polygons onto the points\n",
    "# (as shapefile_attributes) using pygplates plate partioning, and returns the cookie-cut\n",
    "# points\n",
    "    \n",
    "    paleogeog_polygons = []\n",
    "    \n",
    "    if os.path.isfile(icesheet):\n",
    "        features  = pygplates.FeatureCollection(icesheet)\n",
    "        for feature in features:\n",
    "            feature.set_shapefile_attribute('Layer','i')\n",
    "            paleogeog_polygons.append(feature)\n",
    "    else:\n",
    "        print 'No ice sheet found'\n",
    "\n",
    "    features = pygplates.FeatureCollection(mountain)\n",
    "    #plate_partitioner = pygplates.PlatePartitioner(features, rotation_model, reconstruction_time=reconstruction_time) \n",
    "    #for unassigned_multi_point_feature in unassigned_multi_point_features:\n",
    "        #result = plate_partitioner.partition_point(unassigned_multi_point_feature.get_reconstructed_geometry())\n",
    "        #if result is not None:\n",
    "    for feature in features:\n",
    "        feature.set_shapefile_attribute('Layer','m')\n",
    "        paleogeog_polygons.append(feature)\n",
    "        #else:\n",
    "        #    untested_polygons.append(feature)\n",
    "\n",
    "    features = pygplates.FeatureCollection(landmass)\n",
    "    for feature in features:\n",
    "        feature.set_shapefile_attribute('Layer','lm')\n",
    "        paleogeog_polygons.append(feature)\n",
    "\n",
    "    features = pygplates.FeatureCollection(shallow_marine)\n",
    "    for feature in features:\n",
    "        feature.set_shapefile_attribute('Layer','sm')\n",
    "        paleogeog_polygons.append(feature)\n",
    "\n",
    "    plate_partitioner = pygplates.PlatePartitioner(paleogeog_polygons,rotation_model,reconstruction_time=reconstruction_time,\n",
    "                                                  sort_partitioning_plates=None)\n",
    "\n",
    "    cookie_cut_points = plate_partitioner.partition_features(mpf,\n",
    "                                                            properties_to_copy=[pygplates.PropertyName.gpml_shapefile_attributes])\n",
    "\n",
    "    return cookie_cut_points\n",
    "\n",
    "\n",
    "def PlotPaleogeography(cookie_cut_points,filename):\n",
    "# This function takes cookie-cut points that are assumed evenly distributed across the sphere,\n",
    "# with different attributes assigned to define the paleo-environment at each point.\n",
    "# The points are plotted on the globe with different colours, and we count up\n",
    "# the total number of points within each paleo-environment class. These numbers \n",
    "# are returned, such that they can be used to determine the ratio if the Earth's\n",
    "# surface within each class (by dividing by total number of points covering Earth \n",
    "# at the original healpix resolution)\n",
    "\n",
    "    plt.figure(figsize=(16,8))\n",
    "    \n",
    "    landmass_point_count = 0.\n",
    "    mountain_point_count = 0.\n",
    "    icesheet_point_count = 0.\n",
    "    shallow_marine_point_count = 0.\n",
    "    \n",
    "    m = Basemap(projection='moll', lon_0=0, resolution='c')\n",
    "\n",
    "    for feature in cookie_cut_points:\n",
    "        if feature.get_shapefile_attribute('Layer')=='sm':\n",
    "            for geometry in feature.get_all_geometries():\n",
    "                x,y = m(geometry.to_lat_lon_array()[:,1],geometry.to_lat_lon_array()[:,0])\n",
    "                m.plot(x,y,'.',color='lightblue')\n",
    "                shallow_marine_point_count += len(x)\n",
    "    for feature in cookie_cut_points:\n",
    "        if feature.get_shapefile_attribute('Layer')=='lm':\n",
    "            for geometry in feature.get_all_geometries():\n",
    "                x,y = m(geometry.to_lat_lon_array()[:,1],geometry.to_lat_lon_array()[:,0])\n",
    "                m.plot(x,y,'.',color='yellow')\n",
    "                landmass_point_count += len(x)\n",
    "    for feature in cookie_cut_points:\n",
    "        if feature.get_shapefile_attribute('Layer')=='m':\n",
    "            for geometry in feature.get_all_geometries():\n",
    "                x,y = m(geometry.to_lat_lon_array()[:,1],geometry.to_lat_lon_array()[:,0])\n",
    "                m.plot(x,y,'.',color='orange')\n",
    "                mountain_point_count += len(x)\n",
    "    for feature in cookie_cut_points:\n",
    "        if feature.get_shapefile_attribute('Layer')=='i':\n",
    "            for geometry in feature.get_all_geometries():\n",
    "                x,y = m(geometry.to_lat_lon_array()[:,1],geometry.to_lat_lon_array()[:,0])\n",
    "                m.plot(x,y,'.',color='purple')\n",
    "                icesheet_point_count += len(x)\n",
    "                \n",
    "    #plt.savefig(filename)\n",
    "    #plt.close()\n",
    "    \n",
    "    return landmass_point_count,mountain_point_count,icesheet_point_count,shallow_marine_point_count\n"
   ]
  },
  {
   "cell_type": "code",
   "execution_count": 3,
   "metadata": {
    "collapsed": false
   },
   "outputs": [
    {
     "name": "stdout",
     "output_type": "stream",
     "text": [
      "No ice sheet found\n"
     ]
    },
    {
     "ename": "OpenFileForReadingError",
     "evalue": "Error opening file 'm_fig18_402_380_reconstructed_396.00Ma.shp' for reading",
     "output_type": "error",
     "traceback": [
      "\u001b[0;31m---------------------------------------------------------------------------\u001b[0m",
      "\u001b[0;31mOpenFileForReadingError\u001b[0m                   Traceback (most recent call last)",
      "\u001b[0;32m<ipython-input-3-50d326267739>\u001b[0m in \u001b[0;36m<module>\u001b[0;34m()\u001b[0m\n\u001b[1;32m     17\u001b[0m \u001b[0mshallow_marine\u001b[0m \u001b[0;34m=\u001b[0m \u001b[0;34m'%s/sm_fig%d_%d_%d_reconstructed_%0.2fMa.shp'\u001b[0m \u001b[0;34m%\u001b[0m \u001b[0;34m(\u001b[0m\u001b[0mbasedir\u001b[0m\u001b[0;34m,\u001b[0m\u001b[0mFigNum\u001b[0m\u001b[0;34m,\u001b[0m\u001b[0mFromAge\u001b[0m\u001b[0;34m,\u001b[0m\u001b[0mToAge\u001b[0m\u001b[0;34m,\u001b[0m\u001b[0mreconstruction_time\u001b[0m\u001b[0;34m)\u001b[0m\u001b[0;34m\u001b[0m\u001b[0m\n\u001b[1;32m     18\u001b[0m \u001b[0;34m\u001b[0m\u001b[0m\n\u001b[0;32m---> 19\u001b[0;31m \u001b[0mcookie_cut_points\u001b[0m \u001b[0;34m=\u001b[0m \u001b[0mPaleogeogAreas\u001b[0m\u001b[0;34m(\u001b[0m\u001b[0mrotation_model\u001b[0m\u001b[0;34m,\u001b[0m\u001b[0mreconstruction_time\u001b[0m\u001b[0;34m,\u001b[0m\u001b[0micesheet\u001b[0m\u001b[0;34m,\u001b[0m\u001b[0mmountain\u001b[0m\u001b[0;34m,\u001b[0m\u001b[0mlandmass\u001b[0m\u001b[0;34m,\u001b[0m\u001b[0mshallow_marine\u001b[0m\u001b[0;34m)\u001b[0m\u001b[0;34m\u001b[0m\u001b[0m\n\u001b[0m\u001b[1;32m     20\u001b[0m \u001b[0mlmpc\u001b[0m\u001b[0;34m,\u001b[0m\u001b[0mmpc\u001b[0m\u001b[0;34m,\u001b[0m\u001b[0mipc\u001b[0m\u001b[0;34m,\u001b[0m\u001b[0msmpc\u001b[0m \u001b[0;34m=\u001b[0m \u001b[0mPlotPaleogeography\u001b[0m\u001b[0;34m(\u001b[0m\u001b[0mcookie_cut_points\u001b[0m\u001b[0;34m,\u001b[0m\u001b[0;34m'paleogeog_equal_area_points_%0.2f.png'\u001b[0m \u001b[0;34m%\u001b[0m \u001b[0mreconstruction_time\u001b[0m\u001b[0;34m)\u001b[0m\u001b[0;34m\u001b[0m\u001b[0m\n\u001b[1;32m     21\u001b[0m \u001b[0;34m\u001b[0m\u001b[0m\n",
      "\u001b[0;32m<ipython-input-2-5a4773ece9b2>\u001b[0m in \u001b[0;36mPaleogeogAreas\u001b[0;34m(rotation_model, reconstruction_time, icesheet, mountain, landmass, shallow_marine)\u001b[0m\n\u001b[1;32m     17\u001b[0m         \u001b[0;32mprint\u001b[0m \u001b[0;34m'No ice sheet found'\u001b[0m\u001b[0;34m\u001b[0m\u001b[0m\n\u001b[1;32m     18\u001b[0m \u001b[0;34m\u001b[0m\u001b[0m\n\u001b[0;32m---> 19\u001b[0;31m     \u001b[0mfeatures\u001b[0m \u001b[0;34m=\u001b[0m \u001b[0mpygplates\u001b[0m\u001b[0;34m.\u001b[0m\u001b[0mFeatureCollection\u001b[0m\u001b[0;34m(\u001b[0m\u001b[0mmountain\u001b[0m\u001b[0;34m)\u001b[0m\u001b[0;34m\u001b[0m\u001b[0m\n\u001b[0m\u001b[1;32m     20\u001b[0m     \u001b[0;31m#plate_partitioner = pygplates.PlatePartitioner(features, rotation_model, reconstruction_time=reconstruction_time)\u001b[0m\u001b[0;34m\u001b[0m\u001b[0;34m\u001b[0m\u001b[0m\n\u001b[1;32m     21\u001b[0m     \u001b[0;31m#for unassigned_multi_point_feature in unassigned_multi_point_features:\u001b[0m\u001b[0;34m\u001b[0m\u001b[0;34m\u001b[0m\u001b[0m\n",
      "\u001b[0;31mOpenFileForReadingError\u001b[0m: Error opening file 'm_fig18_402_380_reconstructed_396.00Ma.shp' for reading"
     ]
    }
   ],
   "source": [
    "#lmpc_list = []\n",
    "#mpc_list = []\n",
    "#ipc_list = []\n",
    "#smpc_list = []\n",
    "\n",
    "age = 396\n",
    "FigNum = 18\n",
    "FromAge = 402\n",
    "ToAge = 380\n",
    "reconstruction_time = 396\n",
    "basedir = '/Users/wenchaocao/Research/6_CookieCutting_Corrections/'+str(age)+'/5_Reconstructed_Paleogeog_GolonkaIDs_'+str(age)+'Ma'\n",
    "#basedir = '/Users/wenchaocao/Research/6_CookieCutting_Corrections/'+str(age)+'/TopologyMethod_'+str(age)+'Ma/8_Reconstructed_Paleogeog_EBIDs_'+str(age)+'Ma_Modified_Paleobiology'\n",
    "\n",
    "icesheet =  '%s/i_fig%d_%d_%d_reconstructed_%0.2fMa.shp' % (basedir,FigNum,FromAge,ToAge,reconstruction_time)\n",
    "mountain =  '%s/m_fig%d_%d_%d_reconstructed_%0.2fMa.shp' % (basedir,FigNum,FromAge,ToAge,reconstruction_time)\n",
    "landmass = '%s/lm_fig%d_%d_%d_reconstructed_%0.2fMa.shp' % (basedir,FigNum,FromAge,ToAge,reconstruction_time)\n",
    "shallow_marine = '%s/sm_fig%d_%d_%d_reconstructed_%0.2fMa.shp' % (basedir,FigNum,FromAge,ToAge,reconstruction_time)\n",
    "\n",
    "cookie_cut_points = PaleogeogAreas(rotation_model,reconstruction_time,icesheet,mountain,landmass,shallow_marine)\n",
    "lmpc,mpc,ipc,smpc = PlotPaleogeography(cookie_cut_points,'paleogeog_equal_area_points_%0.2f.png' % reconstruction_time)\n",
    "\n",
    "#lmpc_list.append(lmpc)\n",
    "#mpc_list.append(mpc)\n",
    "#ipc_list.append(ipc)\n",
    "#smpc_list.append(smpc)\n",
    "\n",
    "#tmp = pygplates.FeatureCollection(cookie_cut_points)\n",
    "#tmp.write('paleogeog_equal_area_points_22.00_nSide128.shp')\n",
    "\n",
    "\n",
    "print 'Time steps = %d' % age \n",
    "print ''\n",
    "print 'icesheet = %0.4f%%' % (100*ipc/num_points_on_globe)\n",
    "print 'mountain = %0.4f%%' % (100*mpc/num_points_on_globe)\n",
    "print 'landmass = %0.4f%%' % (100*lmpc/num_points_on_globe)\n",
    "print 'shallow_marine = %0.4f%%' % (100*smpc/num_points_on_globe)\n",
    "print 'deep_ocean = %0.4f%%' %(100-(100*ipc/num_points_on_globe)-(100*mpc/num_points_on_globe)-(100*lmpc/num_points_on_globe)-(100*smpc/num_points_on_globe))\n",
    "\n",
    "print \n",
    "#print lmpc_list,mpc_list,ipc_list,smpc_list\n",
    "#calculate areas\n",
    "print ''\n",
    "EarthArea = 4.*np.pi*pygplates.Earth.mean_radius_in_kms**2\n",
    "#EarthArea = 510100000.\n",
    "print EarthArea\n",
    "\n",
    "#print 'Time step = %d Ma' % age\n",
    "print 'icesheet area = %0.4f sq.km' % (EarthArea*(ipc/num_points_on_globe)/(1e7))\n",
    "print 'mountain area = %0.4f sq.km' % (EarthArea*(mpc/num_points_on_globe)/(1e7))\n",
    "print 'Landmass area = %0.4f sq.km' % (EarthArea*(lmpc/num_points_on_globe)/(1e7))\n",
    "print 'shallow_marine area = %0.4f sq.km' % (EarthArea*(smpc/num_points_on_globe)/(1e7))\n",
    "print 'deep_ocean area = %0.4f sq.km' % ((EarthArea/(1e7))-(EarthArea*(ipc/num_points_on_globe)/(1e7))-(EarthArea*(mpc/num_points_on_globe)/(1e7))-(EarthArea*(lmpc/num_points_on_globe)/(1e7))-(EarthArea*(smpc/num_points_on_globe)/(1e7)))\n",
    "#print 'A_T-Land = %0.4f sq.km' % ()\n",
    "#print 'Earth area= %0.2f sq.km' % (EarthArea/(1e7))"
   ]
  },
  {
   "cell_type": "code",
   "execution_count": null,
   "metadata": {
    "collapsed": true
   },
   "outputs": [],
   "source": []
  }
 ],
 "metadata": {
  "kernelspec": {
   "display_name": "Python 2",
   "language": "python",
   "name": "python2"
  },
  "language_info": {
   "codemirror_mode": {
    "name": "ipython",
    "version": 2
   },
   "file_extension": ".py",
   "mimetype": "text/x-python",
   "name": "python",
   "nbconvert_exporter": "python",
   "pygments_lexer": "ipython2",
   "version": "2.7.13"
  }
 },
 "nbformat": 4,
 "nbformat_minor": 0
}
