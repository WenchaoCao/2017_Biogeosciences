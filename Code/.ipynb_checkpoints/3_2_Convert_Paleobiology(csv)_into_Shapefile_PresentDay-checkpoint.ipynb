{
 "cells": [
  {
   "cell_type": "code",
   "execution_count": 1,
   "metadata": {
    "collapsed": false
   },
   "outputs": [],
   "source": [
    "import pygplates\n",
    "import pandas as pd\n",
    "import numpy as np\n",
    "import matplotlib.pyplot as plt\n",
    "\n",
    "%matplotlib inline\n",
    "\n",
    "pbdb = pd.read_csv('../Data/Fossil_Collections_Genus_PBDB_2500_0Ma/2500Ma-collections.csv')\n",
    "\n",
    "recon_time = 45\n",
    "age_max = 49\n",
    "age_min = 37\n",
    "\n",
    "#extract subsets\n",
    "pbdb_subset = pbdb[(pbdb.ma_max<=age_max) & (pbdb.ma_min>=age_min)] \n",
    "\n",
    "#EB static polygons:'/Users/wenchaocao/Research/6_CookieCutting_Corrections/Orignial_RotaContinCoast_410_0_EarthByte_Model_2015_v1v2/Global_EarthByte_GPlates_PresentDay_StaticPlatePolygons_2015_v1/Global_EarthByte_GPlates_PresentDay_StaticPlatePolygons_2015_v1.shp'\n",
    "static_polygons = '../Data/EB_Model_2016/Global_EarthByte_GPlates_PresentDay_StaticPlatePolygons_2016_v1.shp'\n",
    "\n",
    "# hence, here we can specify a 'fake' rotiation file to avoid reconstructing the fossils\n",
    "rotation_filename_for_fossils = '../Data/New_Rotation.rot'\n",
    "\n",
    "# Load the rotation file and static polygons for the reconstruction model we want to use\n",
    "# Then, create a gplates feature containing the fossils, and assign-plate ids to them\n",
    "rotation_model = pygplates.RotationModel(rotation_filename_for_fossils)\n",
    "\n",
    "point_features = []\n",
    "\n",
    "for index,row in pbdb_subset.iterrows():\n",
    "    point = pygplates.PointOnSphere(float(row.latdec),float(row.lngdec))\n",
    "    #print row.LONG\n",
    "    point_feature = pygplates.Feature()\n",
    "    point_feature.set_geometry(point)\n",
    "    point_feature.set_shapefile_attribute('Environ',str(row.environment))\n",
    "    point_feature.set_shapefile_attribute('lithology1',str(row.lithology1))\n",
    "    point_feature.set_shapefile_attribute('lithology2',str(row.lithology2))\n",
    "    point_feature.set_shapefile_attribute('coll_no',str(row.collection_no))\n",
    "    point_feature.set_shapefile_attribute('coll_auth',str(row['collection.authorizer']))\n",
    "    point_feature.set_shapefile_attribute('coll_refno',str(row['collection.reference_no']))\n",
    "    point_feature.set_shapefile_attribute('ma_max',row.ma_max)\n",
    "    point_feature.set_shapefile_attribute('ma_min',row.ma_min)\n",
    "    point_feature.set_shapefile_attribute('period',str(row.period))\n",
    "    point_feature.set_shapefile_attribute('epoch',str(row.epoch))\n",
    "    point_feature.set_shapefile_attribute('stage',str(row.stage))\n",
    "    point_feature.set_valid_time(age_max,age_min)\n",
    "    point_features.append(point_feature)\n",
    "\n",
    "# The partition points function can then be used as before\n",
    "partitioned_point_features = pygplates.partition_into_plates(static_polygons,\n",
    "                                                       rotation_model,\n",
    "                                                       point_features) \n",
    "\n",
    "# If partitioned feature has plate id = 0, we throw it away \n",
    "partitioned_point_features_not_zero = []\n",
    "for point_feature in partitioned_point_features:\n",
    "    if point_feature.get_reconstruction_plate_id() != 0:\n",
    "        partitioned_point_features_not_zero.append(point_feature)   \n",
    "\n",
    "feature_collection = pygplates.FeatureCollection(partitioned_point_features_not_zero)\n",
    "feature_collection.write('../Code/Output/PresentDay_Paleogeog_EBIDs_Tested_Paleobiology_402_0Ma/PresentDay_Paleobiology_EBIDs_'+str(recon_time)+'Ma.shp')\n",
    "\n"
   ]
  },
  {
   "cell_type": "code",
   "execution_count": null,
   "metadata": {
    "collapsed": true
   },
   "outputs": [],
   "source": []
  }
 ],
 "metadata": {
  "kernelspec": {
   "display_name": "Python 2",
   "language": "python",
   "name": "python2"
  },
  "language_info": {
   "codemirror_mode": {
    "name": "ipython",
    "version": 2
   },
   "file_extension": ".py",
   "mimetype": "text/x-python",
   "name": "python",
   "nbconvert_exporter": "python",
   "pygments_lexer": "ipython2",
   "version": "2.7.13"
  }
 },
 "nbformat": 4,
 "nbformat_minor": 0
}
